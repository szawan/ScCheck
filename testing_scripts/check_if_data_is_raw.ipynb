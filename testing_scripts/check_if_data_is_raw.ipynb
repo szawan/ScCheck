{
 "cells": [
  {
   "cell_type": "code",
   "execution_count": 22,
   "metadata": {},
   "outputs": [],
   "source": [
    "import scanpy as sc\n",
    "# from magic import MAGIC\n",
    "import scanpy.external as sce\n",
    "\n",
    "context_path = \"/home/sah2p/ondemand/singlecell_data/\"\n",
    "organism = 'Arabidopsis/'\n",
    "adata = sc.read_h5ad(context_path+organism+\"SRP166333.h5ad\")"
   ]
  },
  {
   "cell_type": "markdown",
   "metadata": {},
   "source": [
    "#### Checklist for if the data is preprocessed"
   ]
  },
  {
   "cell_type": "markdown",
   "metadata": {},
   "source": [
    "#### Checkup for the Negative or Non-Integer Values"
   ]
  },
  {
   "cell_type": "code",
   "execution_count": 23,
   "metadata": {},
   "outputs": [
    {
     "name": "stdout",
     "output_type": "stream",
     "text": [
      "Min value in adata.X: 0.0, Max value: 7.709360692210425\n",
      "Are all values integers?  False\n"
     ]
    }
   ],
   "source": [
    "print(f\"Min value in adata.X: {adata.X.min()}, Max value: {adata.X.max()}\")\n",
    "print(\"Are all values integers? \", np.all(adata.X.A.astype(int) == adata.X.A))"
   ]
  },
  {
   "cell_type": "code",
   "execution_count": 24,
   "metadata": {},
   "outputs": [
    {
     "name": "stdout",
     "output_type": "stream",
     "text": [
      "Min value in adata.raw.X: 0.0, Max value: 1848.0\n",
      "Are all values integers?  True\n"
     ]
    }
   ],
   "source": [
    "print(f\"Min value in adata.raw.X: {adata.raw.X.min()}, Max value: {adata.raw.X.max()}\")\n",
    "print(\"Are all values integers? \", np.all(adata.raw.X.A.astype(int) == adata.raw.X.A))"
   ]
  },
  {
   "cell_type": "markdown",
   "metadata": {},
   "source": [
    "#### Checking for Mean of the data"
   ]
  },
  {
   "cell_type": "code",
   "execution_count": 25,
   "metadata": {},
   "outputs": [
    {
     "name": "stdout",
     "output_type": "stream",
     "text": [
      "adata.raw.X shape: (16949, 53678)\n",
      "adata.X shape: (16949, 53678)\n",
      "Mean of adata.raw.X: 0.10477097827916536\n",
      "Mean of adata.X: 0.046338694208698634\n"
     ]
    }
   ],
   "source": [
    "import numpy as np\n",
    "\n",
    "if adata.raw is not None:\n",
    "    print(f\"adata.raw.X shape: {adata.raw.X.shape}\")\n",
    "    print(f\"adata.X shape: {adata.X.shape}\")\n",
    "    print(\"Mean of adata.raw.X:\", np.mean(adata.raw.X))\n",
    "    print(\"Mean of adata.X:\", np.mean(adata.X))\n",
    "else:\n",
    "    print(\"No raw data available. adata.X may contain raw or processed data.\")"
   ]
  },
  {
   "cell_type": "markdown",
   "metadata": {},
   "source": [
    "#### Look for  log transformation and Normalization"
   ]
  },
  {
   "cell_type": "code",
   "execution_count": 26,
   "metadata": {},
   "outputs": [
    {
     "name": "stdout",
     "output_type": "stream",
     "text": [
      "No log1p transformation found.\n",
      "No evidence of normalization found.\n"
     ]
    }
   ],
   "source": [
    "print(adata.uns.get('log1p', \"No log1p transformation found.\"))\n",
    "if 'n_counts' in adata.obs.columns:\n",
    "    print(\"Normalization was applied (total count normalization).\")\n",
    "else:\n",
    "    print(\"No evidence of normalization found.\")"
   ]
  },
  {
   "cell_type": "markdown",
   "metadata": {},
   "source": [
    "#### Looking for Mean and Standard deviation"
   ]
  },
  {
   "cell_type": "code",
   "execution_count": 27,
   "metadata": {},
   "outputs": [
    {
     "name": "stdout",
     "output_type": "stream",
     "text": [
      "Mean of adata.raw.X: 0.105, Standard Deviation: 1.829\n"
     ]
    }
   ],
   "source": [
    "import numpy as np\n",
    "\n",
    "mean_x = np.mean(adata.raw.X.A)  # Convert sparse matrix to dense\n",
    "std_x = np.std(adata.raw.X.A)\n",
    "\n",
    "print(f\"Mean of adata.raw.X: {mean_x:.3f}, Standard Deviation: {std_x:.3f}\")"
   ]
  },
  {
   "cell_type": "code",
   "execution_count": 28,
   "metadata": {},
   "outputs": [
    {
     "name": "stdout",
     "output_type": "stream",
     "text": [
      "OrderedDict()\n"
     ]
    }
   ],
   "source": [
    "print(adata.uns)"
   ]
  },
  {
   "cell_type": "code",
   "execution_count": 29,
   "metadata": {},
   "outputs": [
    {
     "name": "stdout",
     "output_type": "stream",
     "text": [
      "Normalization was applied (total count normalization).\n"
     ]
    }
   ],
   "source": [
    "if 'nCount_RNA' in adata.obs.columns:\n",
    "    print(\"Normalization was applied (total count normalization).\")\n",
    "else:\n",
    "    print(\"No evidence of normalization found.\")"
   ]
  },
  {
   "cell_type": "code",
   "execution_count": 30,
   "metadata": {},
   "outputs": [
    {
     "name": "stdout",
     "output_type": "stream",
     "text": [
      "[[-8.59477067 -8.982056  ]\n",
      " [ 4.63619876 12.15059533]\n",
      " [ 9.25123953  4.72851958]\n",
      " [ 4.80381035  4.61299386]\n",
      " [ 8.95600772  2.6226882 ]]\n"
     ]
    }
   ],
   "source": [
    "print(adata.obsm[\"X_umap\"][:5])  # Print first few UMAP coordinates"
   ]
  },
  {
   "cell_type": "code",
   "execution_count": 31,
   "metadata": {},
   "outputs": [
    {
     "name": "stdout",
     "output_type": "stream",
     "text": [
      "Using raw count data from adata.raw.X\n"
     ]
    }
   ],
   "source": [
    "if adata.raw is not None:\n",
    "    print(\"Using raw count data from adata.raw.X\")\n",
    "adata.X = adata.raw.X.copy()\n",
    "    \n",
    "# Remove all-zero genes\n",
    "sc.pp.filter_genes(adata, min_counts=1)\n"
   ]
  }
 ],
 "metadata": {
  "kernelspec": {
   "display_name": "scanpy",
   "language": "python",
   "name": "python3"
  },
  "language_info": {
   "codemirror_mode": {
    "name": "ipython",
    "version": 3
   },
   "file_extension": ".py",
   "mimetype": "text/x-python",
   "name": "python",
   "nbconvert_exporter": "python",
   "pygments_lexer": "ipython3",
   "version": "3.9.20"
  }
 },
 "nbformat": 4,
 "nbformat_minor": 2
}
