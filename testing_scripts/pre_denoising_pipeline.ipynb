{
 "cells": [
  {
   "cell_type": "markdown",
   "metadata": {},
   "source": [
    "#### 00 The initial steps for filtering dataset for denoising"
   ]
  },
  {
   "cell_type": "code",
   "execution_count": 1,
   "metadata": {},
   "outputs": [],
   "source": [
    "import doubletdetection\n",
    "import scanpy as sc\n",
    "import scipy.sparse as sp\n",
    "import scanpy.external as sce\n",
    "import numpy as np\n",
    "import os\n",
    "\n"
   ]
  },
  {
   "cell_type": "code",
   "execution_count": 2,
   "metadata": {},
   "outputs": [],
   "source": [
    "\n",
    "context_path = \"/home/sah2p/ondemand/singlecell_data/\"\n",
    "organism = 'Arabidopsis/'\n",
    "adata = sc.read_h5ad(context_path+organism+\"SRP166333.h5ad\")"
   ]
  },
  {
   "cell_type": "markdown",
   "metadata": {},
   "source": [
    "#### 01 Creating a New anndata objects with just raw data"
   ]
  },
  {
   "cell_type": "code",
   "execution_count": 6,
   "metadata": {},
   "outputs": [
    {
     "name": "stdout",
     "output_type": "stream",
     "text": [
      "AnnData object with n_obs × n_vars = 16949 × 53678\n",
      "    obs: 'Orig.ident', 'Celltype', 'Dataset', 'Tissue', 'Organ', 'Condition', 'Genotype', 'Libraries', 'ACE'\n",
      "    var: 'features'\n"
     ]
    }
   ],
   "source": [
    "# Create a new AnnData object with the raw counts\n",
    "adata_raw = sc.AnnData(adata.raw.X.copy() if adata.raw is not None else adata.X.copy())\n",
    "\n",
    "# Keep all obs columns except the specified ones\n",
    "columns_to_remove = ['nCount_RNA', 'nFeature_RNA', 'Percent.mt', 'Seurat_clusters']\n",
    "adata_raw.obs = adata.obs.drop(columns=columns_to_remove, errors='ignore')  # Remove specific columns\n",
    "\n",
    "# Keep the original gene metadata (var)\n",
    "adata_raw.var = adata.var.copy()  # Preserve all gene information\n",
    "\n",
    "# Remove processed data that isn't needed\n",
    "adata_raw.uns = {}  # Remove unstructured data\n",
    "adata_raw.obsm = {}  # Remove dimensionality reductions (PCA, UMAP)\n",
    "adata_raw.obsp = {}  # Remove pairwise distances\n",
    "adata_raw.varm = {}  # Remove additional variable metadata\n",
    "\n",
    "# Print summary to confirm\n",
    "print(adata_raw)"
   ]
  },
  {
   "cell_type": "markdown",
   "metadata": {},
   "source": [
    "#### 02 Perform Basic QC"
   ]
  },
  {
   "cell_type": "markdown",
   "metadata": {},
   "source": [
    "\t1.\tIdentify mitochondrial genes (in plants, these typically start with \"ATMG\" for Arabidopsis).\n",
    "\t2.\tCalculate the percentage of mitochondrial genes per cell.\n",
    "\t3.\tFilter out cells with high mitochondrial content."
   ]
  },
  {
   "cell_type": "code",
   "execution_count": 7,
   "metadata": {},
   "outputs": [],
   "source": [
    "adata_raw.var[\"mt\"] = adata_raw.var_names.str.startswith(\"ATMG\")\n",
    "adata_raw.var[\"pt\"] = adata_raw.var_names.str.startswith(\"ATCG\")\n",
    "        \n",
    "sc.pp.calculate_qc_metrics(adata_raw, qc_vars=[\"mt\", \"pt\"], inplace=True, log1p=True)"
   ]
  },
  {
   "cell_type": "code",
   "execution_count": 9,
   "metadata": {},
   "outputs": [
    {
     "data": {
      "text/plain": [
       "AnnData object with n_obs × n_vars = 16949 × 53678\n",
       "    obs: 'Orig.ident', 'Celltype', 'Dataset', 'Tissue', 'Organ', 'Condition', 'Genotype', 'Libraries', 'ACE', 'n_genes_by_counts', 'log1p_n_genes_by_counts', 'total_counts', 'log1p_total_counts', 'pct_counts_in_top_50_genes', 'pct_counts_in_top_100_genes', 'pct_counts_in_top_200_genes', 'pct_counts_in_top_500_genes', 'total_counts_mt', 'log1p_total_counts_mt', 'pct_counts_mt', 'total_counts_pt', 'log1p_total_counts_pt', 'pct_counts_pt'\n",
       "    var: 'features', 'mt', 'pt', 'n_cells_by_counts', 'mean_counts', 'log1p_mean_counts', 'pct_dropout_by_counts', 'total_counts', 'log1p_total_counts'"
      ]
     },
     "execution_count": 9,
     "metadata": {},
     "output_type": "execute_result"
    }
   ],
   "source": [
    "adata_raw"
   ]
  },
  {
   "cell_type": "code",
   "execution_count": null,
   "metadata": {},
   "outputs": [],
   "source": [
    "sc.pl.violin(\n",
    "    adata_raw,\n",
    "    [\"n_genes_by_counts\", \"total_counts\", \"pct_counts_mt\", \"pct_counts_pt\"],\n",
    "    jitter=0.4,\n",
    "    multi_panel=True,\n",
    "    save=\"qc_metrics.png\",\n",
    "    show=False,\n",
    ")"
   ]
  },
  {
   "cell_type": "code",
   "execution_count": 12,
   "metadata": {},
   "outputs": [
    {
     "name": "stdout",
     "output_type": "stream",
     "text": [
      "WARNING: saving figure to file figures/scatterqc_total_counts_vs_n_genes_by_counts.png\n"
     ]
    },
    {
     "name": "stderr",
     "output_type": "stream",
     "text": [
      "/home/sah2p/ondemand/tools/miniconda3/envs/scanpy/lib/python3.9/site-packages/scanpy/plotting/_utils.py:715: FutureWarning: Series.__getitem__ treating keys as positions is deprecated. In a future version, integer keys will always be treated as labels (consistent with DataFrame behavior). To access a value by position, use `ser.iloc[pos]`\n",
      "  color = color[sort]\n"
     ]
    },
    {
     "data": {
      "text/plain": [
       "<Axes: title={'center': 'pct counts pt'}, xlabel='total_counts', ylabel='n_genes_by_counts'>"
      ]
     },
     "execution_count": 12,
     "metadata": {},
     "output_type": "execute_result"
    }
   ],
   "source": [
    "sc.pl.scatter(adata_raw, \"total_counts\", \"n_genes_by_counts\", color=\"pct_counts_pt\",save=\"qc_total_counts_vs_n_genes_by_counts.png\", show=False)\n"
   ]
  },
  {
   "cell_type": "code",
   "execution_count": 12,
   "metadata": {},
   "outputs": [
    {
     "name": "stdout",
     "output_type": "stream",
     "text": [
      "Found 38 mitochondrial genes and 89 plastid genes.\n",
      "WARNING: saving figure to file figures/violinpercent_mtpt.png\n"
     ]
    },
    {
     "name": "stderr",
     "output_type": "stream",
     "text": [
      "/home/sah2p/ondemand/tools/miniconda3/envs/scanpy/lib/python3.9/site-packages/seaborn/_oldcore.py:1119: FutureWarning: use_inf_as_na option is deprecated and will be removed in a future version. Convert inf values to NaN before operating instead.\n",
      "  with pd.option_context('mode.use_inf_as_na', True):\n",
      "/home/sah2p/ondemand/tools/miniconda3/envs/scanpy/lib/python3.9/site-packages/seaborn/_oldcore.py:1119: FutureWarning: use_inf_as_na option is deprecated and will be removed in a future version. Convert inf values to NaN before operating instead.\n",
      "  with pd.option_context('mode.use_inf_as_na', True):\n",
      "/home/sah2p/ondemand/tools/miniconda3/envs/scanpy/lib/python3.9/site-packages/seaborn/_oldcore.py:1075: FutureWarning: When grouping with a length-1 list-like, you will need to pass a length-1 tuple to get_group in a future version of pandas. Pass `(name,)` instead of `name` to silence this warning.\n",
      "  data_subset = grouped_data.get_group(pd_key)\n"
     ]
    },
    {
     "name": "stdout",
     "output_type": "stream",
     "text": [
      "WARNING: saving figure to file figures/violincounts.png\n"
     ]
    },
    {
     "name": "stderr",
     "output_type": "stream",
     "text": [
      "/home/sah2p/ondemand/tools/miniconda3/envs/scanpy/lib/python3.9/site-packages/seaborn/_oldcore.py:1119: FutureWarning: use_inf_as_na option is deprecated and will be removed in a future version. Convert inf values to NaN before operating instead.\n",
      "  with pd.option_context('mode.use_inf_as_na', True):\n",
      "/home/sah2p/ondemand/tools/miniconda3/envs/scanpy/lib/python3.9/site-packages/seaborn/_oldcore.py:1119: FutureWarning: use_inf_as_na option is deprecated and will be removed in a future version. Convert inf values to NaN before operating instead.\n",
      "  with pd.option_context('mode.use_inf_as_na', True):\n",
      "/home/sah2p/ondemand/tools/miniconda3/envs/scanpy/lib/python3.9/site-packages/seaborn/_oldcore.py:1075: FutureWarning: When grouping with a length-1 list-like, you will need to pass a length-1 tuple to get_group in a future version of pandas. Pass `(name,)` instead of `name` to silence this warning.\n",
      "  data_subset = grouped_data.get_group(pd_key)\n"
     ]
    },
    {
     "name": "stdout",
     "output_type": "stream",
     "text": [
      "Remaining cells after filtering: 14279\n"
     ]
    }
   ],
   "source": [
    "\n",
    "# Identify mitochondrial and plastid genes\n",
    "mt_genes = [gene for gene in adata_raw.var_names if gene.startswith(\"ATMG\")]\n",
    "pt_genes = [gene for gene in adata_raw.var_names if gene.startswith(\"ATCG\")]\n",
    "# Print the number of detected genes\n",
    "print(f\"Found {len(mt_genes)} mitochondrial genes and {len(pt_genes)} plastid genes.\")\n",
    "\n",
    "# Compute the fraction of mitochondrial gene counts per cell\n",
    "adata_raw.obs[\"percent_mt\"] = (\n",
    "    np.sum(adata_raw[:, mt_genes].X, axis=1) / np.sum(adata_raw.X, axis=1)\n",
    ") * 100\n",
    "\n",
    "# Compute the fraction of plastid gene counts per cell\n",
    "adata_raw.obs[\"percent_pt\"] = (\n",
    "    np.sum(adata_raw[:, pt_genes].X, axis=1) / np.sum(adata_raw.X, axis=1)\n",
    ") * 100\n",
    "\n",
    "adata_raw.obs[\"n_genes_by_counts\"] = (adata_raw.X > 0).sum(axis=1)\n",
    "# Compute total UMI counts per cell (nCount_RNA equivalent)\n",
    "adata_raw.obs[\"total_counts\"] = adata_raw.X.sum(axis=1)\n",
    "\n",
    "\n",
    "# Visualize distributions before filtering\n",
    "sc.pl.violin(adata_raw, [\"percent_mt\", \"percent_pt\"], jitter=0.4, log=True, ylabel=\"Percentage of Counts\", save=\"percent_mtpt.png\")\n",
    "sc.pl.violin(adata_raw,[\"n_genes_by_counts\",\"total_counts\"], jitter=0.4, log=True, ylabel=\"Counts\", save=\"counts.png\")\n",
    "\n",
    "\n",
    "Q1 = np.percentile(adata_raw.obs[\"n_genes_by_counts\"], 25)  # First quartile\n",
    "Q3 = np.percentile(adata_raw.obs[\"n_genes_by_counts\"], 75)  # Third quartile\n",
    "IQR = Q3 - Q1\n",
    "\n",
    "lower_bound = Q1 - 1.5 * IQR\n",
    "upper_bound = Q3 + 1.5 * IQR\n",
    "\n",
    "# Step 6: Apply IQR-based filtering\n",
    "adata_raw = adata_raw[\n",
    "            (adata_raw.obs['percent_mt'] <= 10) &\n",
    "            (adata_raw.obs['percent_pt'] <= 5) &\n",
    "            (adata_raw.obs['n_genes_by_counts'] > lower_bound) &\n",
    "            (adata_raw.obs['n_genes_by_counts'] < upper_bound) &\n",
    "            (adata_raw.obs['total_counts'] > 200) &\n",
    "            (adata_raw.obs['total_counts'] < 10000)]\n",
    "\n",
    "# Step 7: Print summary after filtering\n",
    "print(f\"Remaining cells after filtering: {adata_raw.n_obs}\")"
   ]
  },
  {
   "cell_type": "code",
   "execution_count": 13,
   "metadata": {},
   "outputs": [
    {
     "name": "stdout",
     "output_type": "stream",
     "text": [
      "WARNING: saving figure to file figures/violinafterpercent_mtpt.png\n"
     ]
    },
    {
     "name": "stderr",
     "output_type": "stream",
     "text": [
      "/home/sah2p/ondemand/tools/miniconda3/envs/scanpy/lib/python3.9/site-packages/seaborn/_oldcore.py:1119: FutureWarning: use_inf_as_na option is deprecated and will be removed in a future version. Convert inf values to NaN before operating instead.\n",
      "  with pd.option_context('mode.use_inf_as_na', True):\n",
      "/home/sah2p/ondemand/tools/miniconda3/envs/scanpy/lib/python3.9/site-packages/seaborn/_oldcore.py:1119: FutureWarning: use_inf_as_na option is deprecated and will be removed in a future version. Convert inf values to NaN before operating instead.\n",
      "  with pd.option_context('mode.use_inf_as_na', True):\n",
      "/home/sah2p/ondemand/tools/miniconda3/envs/scanpy/lib/python3.9/site-packages/seaborn/_oldcore.py:1075: FutureWarning: When grouping with a length-1 list-like, you will need to pass a length-1 tuple to get_group in a future version of pandas. Pass `(name,)` instead of `name` to silence this warning.\n",
      "  data_subset = grouped_data.get_group(pd_key)\n"
     ]
    },
    {
     "name": "stdout",
     "output_type": "stream",
     "text": [
      "WARNING: saving figure to file figures/violinaftercounts.png\n"
     ]
    },
    {
     "name": "stderr",
     "output_type": "stream",
     "text": [
      "/home/sah2p/ondemand/tools/miniconda3/envs/scanpy/lib/python3.9/site-packages/seaborn/_oldcore.py:1119: FutureWarning: use_inf_as_na option is deprecated and will be removed in a future version. Convert inf values to NaN before operating instead.\n",
      "  with pd.option_context('mode.use_inf_as_na', True):\n",
      "/home/sah2p/ondemand/tools/miniconda3/envs/scanpy/lib/python3.9/site-packages/seaborn/_oldcore.py:1119: FutureWarning: use_inf_as_na option is deprecated and will be removed in a future version. Convert inf values to NaN before operating instead.\n",
      "  with pd.option_context('mode.use_inf_as_na', True):\n",
      "/home/sah2p/ondemand/tools/miniconda3/envs/scanpy/lib/python3.9/site-packages/seaborn/_oldcore.py:1075: FutureWarning: When grouping with a length-1 list-like, you will need to pass a length-1 tuple to get_group in a future version of pandas. Pass `(name,)` instead of `name` to silence this warning.\n",
      "  data_subset = grouped_data.get_group(pd_key)\n"
     ]
    }
   ],
   "source": [
    "# Visualize distributions before filtering\n",
    "sc.pl.violin(adata_raw, [\"percent_mt\", \"percent_pt\"], jitter=0.4, log=True, ylabel=\"Percentage of Counts\", save=\"afterpercent_mtpt.png\")\n",
    "sc.pl.violin(adata_raw,[\"n_genes_by_counts\",\"total_counts\"], jitter=0.4, log=True, ylabel=\"Counts\", save=\"aftercounts.png\")\n"
   ]
  },
  {
   "cell_type": "markdown",
   "metadata": {},
   "source": [
    "#### 04 Doublet Detection"
   ]
  },
  {
   "cell_type": "code",
   "execution_count": 14,
   "metadata": {},
   "outputs": [
    {
     "data": {
      "application/vnd.jupyter.widget-view+json": {
       "model_id": "3f00cf6ff3ac48b59add4ae5d3b79951",
       "version_major": 2,
       "version_minor": 0
      },
      "text/plain": [
       "  0%|          | 0/10 [00:00<?, ?it/s]"
      ]
     },
     "metadata": {},
     "output_type": "display_data"
    },
    {
     "name": "stderr",
     "output_type": "stream",
     "text": [
      "/tmp/ipykernel_4170128/3847579300.py:10: ImplicitModificationWarning: Trying to modify attribute `.obs` of view, initializing view as actual.\n",
      "  adata_raw.obs[\"doublet\"] = doublets\n"
     ]
    }
   ],
   "source": [
    "clf = doubletdetection.BoostClassifier(\n",
    "    n_iters=10, \n",
    "    clustering_algorithm=\"louvain\", \n",
    "    standard_scaling=True,\n",
    "    pseudocount=0.1,\n",
    "    n_jobs=-1,\n",
    ")\n",
    "doublets = clf.fit(adata_raw.X).predict(p_thresh=1e-16, voter_thresh=0.5)\n",
    "doublet_score = clf.doublet_score()\n",
    "adata_raw.obs[\"doublet\"] = doublets\n",
    "adata_raw.obs[\"doublet_score\"] = doublet_score\n"
   ]
  },
  {
   "cell_type": "code",
   "execution_count": 15,
   "metadata": {},
   "outputs": [
    {
     "name": "stdout",
     "output_type": "stream",
     "text": [
      "WARNING: saving figure to file figures/umap_doublet.png\n",
      "Remaining cells after filtering: 14143\n"
     ]
    }
   ],
   "source": [
    "sc.tl.pca(adata_raw, n_comps=50)\n",
    "sc.pp.neighbors(adata_raw) #Default\n",
    "# sce.pp.bbknn(adata_raw, batch_key=\"Orig.ident\") # OPTION 2 for neighbors comparison\n",
    "sc.tl.umap(adata_raw)\n",
    "sc.pl.umap(adata_raw, color=[\"doublet\", \"doublet_score\"], save=\"_doublet.png\")\n",
    "adata_raw = adata_raw[adata_raw.obs['doublet'] == 0, :]\n",
    "print(f\"Remaining cells after filtering: {adata_raw.n_obs}\")"
   ]
  },
  {
   "cell_type": "code",
   "execution_count": 16,
   "metadata": {},
   "outputs": [
    {
     "name": "stdout",
     "output_type": "stream",
     "text": [
      "WARNING: saving figure to file figures/pca_doublet.png\n"
     ]
    }
   ],
   "source": [
    "sc.pl.pca(adata_raw, color=[\"doublet\", \"doublet_score\"], save=\"_doublet.png\")"
   ]
  },
  {
   "cell_type": "code",
   "execution_count": 24,
   "metadata": {},
   "outputs": [
    {
     "name": "stderr",
     "output_type": "stream",
     "text": [
      "/tmp/ipykernel_2962554/2571401706.py:1: ImplicitModificationWarning: Setting element `.layers['counts']` of view, initializing view as actual.\n",
      "  adata_raw.layers['counts'] = adata_raw.X.copy()\n"
     ]
    },
    {
     "name": "stdout",
     "output_type": "stream",
     "text": [
      "WARNING: saving figure to file figures/filter_genes_dispersionHVG.png\n"
     ]
    }
   ],
   "source": [
    "adata_raw.layers['counts'] = adata_raw.X.copy()\n",
    "        # Normalizing to median total counts\n",
    "sc.pp.normalize_total(adata_raw)\n",
    "# Logarithmize the data:\n",
    "sc.pp.log1p(adata_raw)\n",
    "s\n",
    "\n",
    "#Selecting HVG\n",
    "sc.pp.highly_variable_genes(adata_raw, n_top_genes=6000, batch_key=\"Orig.ident\")\n",
    "sc.pl.highly_variable_genes(adata_raw, save = \"HVG.png\")\n",
    "\n",
    "# TODO(Sania): Add flag to keep all genes\n",
    "#Filter to keep only highly variable genes\n",
    "adata_raw = adata_raw[:, adata_raw.var[\"highly_variable\"]]\n",
    "sc.pp.scale(adata_raw, max_value=10)"
   ]
  },
  {
   "cell_type": "code",
   "execution_count": 25,
   "metadata": {},
   "outputs": [
    {
     "name": "stdout",
     "output_type": "stream",
     "text": [
      "Remaining cells after filtering: 14234\n"
     ]
    }
   ],
   "source": [
    "print(f\"Remaining cells after filtering: {adata_raw.n_obs}\")"
   ]
  },
  {
   "cell_type": "code",
   "execution_count": 26,
   "metadata": {},
   "outputs": [
    {
     "name": "stderr",
     "output_type": "stream",
     "text": [
      "/home/sah2p/ondemand/tools/miniconda3/envs/scanpy/lib/python3.9/site-packages/scanpy/preprocessing/_pca.py:229: ImplicitModificationWarning: Setting element `.obsm['X_pca']` of view, initializing view as actual.\n",
      "  adata.obsm['X_pca'] = X_pca\n"
     ]
    },
    {
     "name": "stdout",
     "output_type": "stream",
     "text": [
      "WARNING: saving figure to file figures/pcaPCA_before_bc.png\n"
     ]
    },
    {
     "name": "stderr",
     "output_type": "stream",
     "text": [
      "/home/sah2p/ondemand/tools/miniconda3/envs/scanpy/lib/python3.9/site-packages/scanpy/plotting/_tools/scatterplots.py:394: UserWarning: No data for colormapping provided via 'c'. Parameters 'cmap' will be ignored\n",
      "  cax = scatter(\n"
     ]
    },
    {
     "name": "stdout",
     "output_type": "stream",
     "text": [
      "WARNING: saving figure to file figures/umapCheckingForBatchEffect.png\n"
     ]
    },
    {
     "name": "stderr",
     "output_type": "stream",
     "text": [
      "/home/sah2p/ondemand/tools/miniconda3/envs/scanpy/lib/python3.9/site-packages/scanpy/plotting/_tools/scatterplots.py:394: UserWarning: No data for colormapping provided via 'c'. Parameters 'cmap' will be ignored\n",
      "  cax = scatter(\n",
      "/home/sah2p/ondemand/tools/miniconda3/envs/scanpy/lib/python3.9/site-packages/scanpy/plotting/_tools/scatterplots.py:394: UserWarning: No data for colormapping provided via 'c'. Parameters 'cmap' will be ignored\n",
      "  cax = scatter(\n"
     ]
    }
   ],
   "source": [
    "sc.tl.pca(adata_raw, n_comps=50)\n",
    "sc.pl.pca(adata_raw, color=\"Orig.ident\", save=\"PCA_before_bc.png\")\n",
    "sc.pp.neighbors(adata_raw) #Default\n",
    "# sce.pp.bbknn(adata_raw, batch_key=\"Orig.ident\") # OPTION 2 for neighbors comparison\n",
    "sc.tl.umap(adata_raw)\n",
    "sc.pl.umap(adata_raw, color=[\"Orig.ident\", \"Condition\"], save=\"CheckingForBatchEffect.png\")"
   ]
  },
  {
   "cell_type": "markdown",
   "metadata": {},
   "source": [
    "### Addressing batch effect"
   ]
  },
  {
   "cell_type": "markdown",
   "metadata": {},
   "source": [
    "#### BKNN"
   ]
  },
  {
   "cell_type": "code",
   "execution_count": 27,
   "metadata": {},
   "outputs": [
    {
     "name": "stdout",
     "output_type": "stream",
     "text": [
      "WARNING: consider updating your call to make use of `computation`\n",
      "WARNING: saving figure to file figures/pcaPCA_after_bc_bknn.png\n"
     ]
    },
    {
     "name": "stderr",
     "output_type": "stream",
     "text": [
      "/home/sah2p/ondemand/tools/miniconda3/envs/scanpy/lib/python3.9/site-packages/scanpy/plotting/_tools/scatterplots.py:394: UserWarning: No data for colormapping provided via 'c'. Parameters 'cmap' will be ignored\n",
      "  cax = scatter(\n"
     ]
    },
    {
     "name": "stdout",
     "output_type": "stream",
     "text": [
      "WARNING: saving figure to file figures/umapAfterBatchEffectCorrection_BKNN.png\n"
     ]
    },
    {
     "name": "stderr",
     "output_type": "stream",
     "text": [
      "/home/sah2p/ondemand/tools/miniconda3/envs/scanpy/lib/python3.9/site-packages/scanpy/plotting/_tools/scatterplots.py:394: UserWarning: No data for colormapping provided via 'c'. Parameters 'cmap' will be ignored\n",
      "  cax = scatter(\n",
      "/home/sah2p/ondemand/tools/miniconda3/envs/scanpy/lib/python3.9/site-packages/scanpy/plotting/_tools/scatterplots.py:394: UserWarning: No data for colormapping provided via 'c'. Parameters 'cmap' will be ignored\n",
      "  cax = scatter(\n"
     ]
    }
   ],
   "source": [
    "import scanpy.external as sce\n",
    "\n",
    "sce.pp.bbknn(adata_raw, batch_key=\"Orig.ident\")  # Adjusts batch effect\n",
    "sc.tl.umap(adata_raw)\n",
    "sc.tl.pca(adata_raw, n_comps=50)\n",
    "\n",
    "# Visualize after correction\n",
    "sc.pl.pca(adata_raw, color=\"Orig.ident\", save=\"PCA_after_bc_bknn.png\")\n",
    "sc.pl.umap(adata_raw, color=[\"Orig.ident\", \"Condition\"], save=\"AfterBatchEffectCorrection_BKNN.png\")\n",
    "\n"
   ]
  },
  {
   "cell_type": "markdown",
   "metadata": {},
   "source": [
    "#### Harmony\n"
   ]
  },
  {
   "cell_type": "code",
   "execution_count": 30,
   "metadata": {},
   "outputs": [
    {
     "name": "stderr",
     "output_type": "stream",
     "text": [
      "2025-02-17 10:02:23,433 - harmonypy - INFO - Computing initial centroids with sklearn.KMeans...\n",
      "2025-02-17 10:02:34,425 - harmonypy - INFO - sklearn.KMeans initialization complete.\n",
      "2025-02-17 10:02:34,510 - harmonypy - INFO - Iteration 1 of 10\n",
      "2025-02-17 10:02:37,486 - harmonypy - INFO - Iteration 2 of 10\n",
      "2025-02-17 10:02:40,437 - harmonypy - INFO - Iteration 3 of 10\n",
      "2025-02-17 10:02:43,436 - harmonypy - INFO - Iteration 4 of 10\n",
      "2025-02-17 10:02:46,413 - harmonypy - INFO - Iteration 5 of 10\n",
      "2025-02-17 10:02:49,400 - harmonypy - INFO - Iteration 6 of 10\n",
      "2025-02-17 10:02:52,382 - harmonypy - INFO - Iteration 7 of 10\n",
      "2025-02-17 10:02:55,380 - harmonypy - INFO - Iteration 8 of 10\n",
      "2025-02-17 10:02:57,743 - harmonypy - INFO - Iteration 9 of 10\n",
      "2025-02-17 10:03:00,655 - harmonypy - INFO - Iteration 10 of 10\n",
      "2025-02-17 10:03:02,810 - harmonypy - INFO - Converged after 10 iterations\n"
     ]
    },
    {
     "name": "stdout",
     "output_type": "stream",
     "text": [
      "WARNING: saving figure to file figures/umapAfterBatchEffectCorrection_Harmony.png\n"
     ]
    },
    {
     "name": "stderr",
     "output_type": "stream",
     "text": [
      "/home/sah2p/ondemand/tools/miniconda3/envs/scanpy/lib/python3.9/site-packages/scanpy/plotting/_tools/scatterplots.py:394: UserWarning: No data for colormapping provided via 'c'. Parameters 'cmap' will be ignored\n",
      "  cax = scatter(\n",
      "/home/sah2p/ondemand/tools/miniconda3/envs/scanpy/lib/python3.9/site-packages/scanpy/plotting/_tools/scatterplots.py:394: UserWarning: No data for colormapping provided via 'c'. Parameters 'cmap' will be ignored\n",
      "  cax = scatter(\n"
     ]
    },
    {
     "name": "stdout",
     "output_type": "stream",
     "text": [
      "WARNING: saving figure to file figures/umapLeidenClusters.png\n"
     ]
    },
    {
     "name": "stderr",
     "output_type": "stream",
     "text": [
      "/home/sah2p/ondemand/tools/miniconda3/envs/scanpy/lib/python3.9/site-packages/scanpy/plotting/_tools/scatterplots.py:394: UserWarning: No data for colormapping provided via 'c'. Parameters 'cmap' will be ignored\n",
      "  cax = scatter(\n"
     ]
    },
    {
     "name": "stdout",
     "output_type": "stream",
     "text": [
      "WARNING: saving figure to file figures/umapLouvainClusters.png\n"
     ]
    },
    {
     "name": "stderr",
     "output_type": "stream",
     "text": [
      "/home/sah2p/ondemand/tools/miniconda3/envs/scanpy/lib/python3.9/site-packages/scanpy/plotting/_tools/scatterplots.py:394: UserWarning: No data for colormapping provided via 'c'. Parameters 'cmap' will be ignored\n",
      "  cax = scatter(\n"
     ]
    }
   ],
   "source": [
    "\n",
    "#  batch column exists in adata.obs\n",
    "batch_key = \"Orig.ident\"  # Change this to match your batch column in adata.obs\n",
    "\n",
    "# Run Harmony\n",
    "# `adata` is a variable that likely represents an Anndata object, which is a data structure commonly used in single-cell genomics analysis. It typically contains information about gene expression data, cell metadata, and other relevant information from single-cell experiments. In the provided code snippet, `adata` is being used to store and manipulate single-cell data, including running Harmony batch correction to remove batch effects, performing downstream analysis using the corrected data, and saving the corrected data to a file in H5AD format.\n",
    "# Run Harmony\n",
    "sce.pp.harmony_integrate(adata_raw, batch_key)\n",
    "# Save corrected PCA representation\n",
    "# Use Harmony-corrected PCA for downstream analysis\n",
    "sc.pp.neighbors(adata_raw, use_rep=\"X_pca_harmony\")\n",
    "sc.tl.umap(adata_raw)\n",
    "sc.pl.umap(adata_raw, color=[\"Orig.ident\", \"Condition\"], save=\"AfterBatchEffectCorrection_Harmony.png\")\n",
    "sc.tl.leiden(adata_raw)\n",
    "sc.pl.umap(adata_raw, color=[\"leiden\"], save=\"LeidenClusters.png\")\n",
    "sc.tl.louvain(adata_raw)\n",
    "sc.pl.umap(adata_raw, color=[\"louvain\"], save=\"LouvainClusters.png\")\n",
    "# Save the corrected data\n",
    "# adata.write_h5ad(\"your_data_harmony_corrected.h5ad\")"
   ]
  },
  {
   "cell_type": "markdown",
   "metadata": {},
   "source": [
    "#### Scanorama"
   ]
  },
  {
   "cell_type": "code",
   "execution_count": 37,
   "metadata": {},
   "outputs": [
    {
     "name": "stdout",
     "output_type": "stream",
     "text": [
      "Processing datasets SRX8089019 <=> SRX8089020\n",
      "Processing datasets SRX8089020 <=> SRX8089021\n",
      "WARNING: saving figure to file figures/umapAfterBatchEffectCorrection_Scanorama.png\n"
     ]
    },
    {
     "name": "stderr",
     "output_type": "stream",
     "text": [
      "/home/sah2p/ondemand/tools/miniconda3/envs/scanpy/lib/python3.9/site-packages/scanpy/plotting/_tools/scatterplots.py:394: UserWarning: No data for colormapping provided via 'c'. Parameters 'cmap' will be ignored\n",
      "  cax = scatter(\n",
      "/home/sah2p/ondemand/tools/miniconda3/envs/scanpy/lib/python3.9/site-packages/scanpy/plotting/_tools/scatterplots.py:394: UserWarning: No data for colormapping provided via 'c'. Parameters 'cmap' will be ignored\n",
      "  cax = scatter(\n"
     ]
    },
    {
     "name": "stdout",
     "output_type": "stream",
     "text": [
      "WARNING: saving figure to file figures/umapLeidenClusters_Scanorama.png\n"
     ]
    },
    {
     "name": "stderr",
     "output_type": "stream",
     "text": [
      "/home/sah2p/ondemand/tools/miniconda3/envs/scanpy/lib/python3.9/site-packages/scanpy/plotting/_tools/scatterplots.py:394: UserWarning: No data for colormapping provided via 'c'. Parameters 'cmap' will be ignored\n",
      "  cax = scatter(\n"
     ]
    },
    {
     "name": "stdout",
     "output_type": "stream",
     "text": [
      "WARNING: saving figure to file figures/umapLouvainClusters_Scanorama.png\n"
     ]
    },
    {
     "name": "stderr",
     "output_type": "stream",
     "text": [
      "/home/sah2p/ondemand/tools/miniconda3/envs/scanpy/lib/python3.9/site-packages/scanpy/plotting/_tools/scatterplots.py:394: UserWarning: No data for colormapping provided via 'c'. Parameters 'cmap' will be ignored\n",
      "  cax = scatter(\n"
     ]
    }
   ],
   "source": [
    "sce.pp.scanorama_integrate(adata_raw, batch_key, verbose=1)\n",
    "sc.pp.neighbors(adata_raw, use_rep=\"X_scanorama\")\n",
    "sc.tl.umap(adata_raw)\n",
    "sc.pl.umap(adata_raw, color=[\"Orig.ident\", \"Condition\"], save=\"AfterBatchEffectCorrection_Scanorama.png\")\n",
    "sc.tl.leiden(adata_raw)\n",
    "sc.pl.umap(adata_raw, color=[\"leiden\"], save=\"LeidenClusters_Scanorama.png\")\n",
    "sc.tl.louvain(adata_raw)\n",
    "sc.pl.umap(adata_raw, color=[\"louvain\"], save=\"LouvainClusters_Scanorama.png\")"
   ]
  },
  {
   "cell_type": "markdown",
   "metadata": {},
   "source": [
    "#### Combat"
   ]
  },
  {
   "cell_type": "code",
   "execution_count": 46,
   "metadata": {},
   "outputs": [
    {
     "name": "stderr",
     "output_type": "stream",
     "text": [
      "/home/sah2p/ondemand/tools/miniconda3/envs/scanpy/lib/python3.9/site-packages/scanpy/preprocessing/_combat.py:340: RuntimeWarning: divide by zero encountered in divide\n",
      "  (abs(g_new - g_old) / g_old).max(), (abs(d_new - d_old) / d_old).max()\n"
     ]
    },
    {
     "name": "stdout",
     "output_type": "stream",
     "text": [
      "WARNING: saving figure to file figures/pcaPCA_after_bc_COMBAT.png\n"
     ]
    },
    {
     "name": "stderr",
     "output_type": "stream",
     "text": [
      "/home/sah2p/ondemand/tools/miniconda3/envs/scanpy/lib/python3.9/site-packages/scanpy/plotting/_tools/scatterplots.py:394: UserWarning: No data for colormapping provided via 'c'. Parameters 'cmap' will be ignored\n",
      "  cax = scatter(\n"
     ]
    },
    {
     "name": "stdout",
     "output_type": "stream",
     "text": [
      "WARNING: saving figure to file figures/umapAfterBatchEffectCorrection_COMBAT.png\n"
     ]
    },
    {
     "name": "stderr",
     "output_type": "stream",
     "text": [
      "/home/sah2p/ondemand/tools/miniconda3/envs/scanpy/lib/python3.9/site-packages/scanpy/plotting/_tools/scatterplots.py:394: UserWarning: No data for colormapping provided via 'c'. Parameters 'cmap' will be ignored\n",
      "  cax = scatter(\n",
      "/home/sah2p/ondemand/tools/miniconda3/envs/scanpy/lib/python3.9/site-packages/scanpy/plotting/_tools/scatterplots.py:394: UserWarning: No data for colormapping provided via 'c'. Parameters 'cmap' will be ignored\n",
      "  cax = scatter(\n"
     ]
    }
   ],
   "source": [
    "sc.pp.combat(adata_raw, key=\"Orig.ident\")\n",
    "sc.pp.neighbors(adata_raw)\n",
    "sc.tl.umap(adata_raw)\n",
    "sc.tl.pca(adata_raw, n_comps=50)\n",
    "\n",
    "# Visualize after correction\n",
    "sc.pl.pca(adata_raw, color=\"Orig.ident\", save=\"PCA_after_bc_COMBAT.png\")\n",
    "sc.pl.umap(adata_raw, color=[\"Orig.ident\", \"Condition\"], save=\"AfterBatchEffectCorrection_COMBAT.png\")\n"
   ]
  },
  {
   "cell_type": "code",
   "execution_count": 45,
   "metadata": {},
   "outputs": [
    {
     "data": {
      "text/plain": [
       "AnnData object with n_obs × n_vars = 14234 × 6000\n",
       "    obs: 'Orig.ident', 'Celltype', 'Dataset', 'Tissue', 'Organ', 'Condition', 'Genotype', 'Libraries', 'ACE', 'percent_mt', 'percent_pt', 'n_genes_by_counts', 'total_counts', 'doublet', 'doublet_score', 'leiden', 'louvain'\n",
       "    var: 'features', 'highly_variable', 'means', 'dispersions', 'dispersions_norm', 'highly_variable_nbatches', 'highly_variable_intersection'\n",
       "    uns: 'pca', 'neighbors', 'umap', 'log1p', 'hvg', 'Orig.ident_colors', 'Condition_colors', 'leiden', 'leiden_colors', 'louvain', 'louvain_colors'\n",
       "    obsm: 'X_pca', 'X_umap', 'X_pca_harmony', 'X_scanorama'\n",
       "    varm: 'PCs'\n",
       "    layers: 'counts'\n",
       "    obsp: 'distances', 'connectivities'"
      ]
     },
     "execution_count": 45,
     "metadata": {},
     "output_type": "execute_result"
    }
   ],
   "source": [
    "adata_raw\n"
   ]
  },
  {
   "cell_type": "code",
   "execution_count": 81,
   "metadata": {},
   "outputs": [
    {
     "data": {
      "text/plain": [
       "AnnData object with n_obs × n_vars = 16333 × 53678\n",
       "    obs: 'Orig.ident', 'Celltype', 'Dataset', 'Tissue', 'Organ', 'Condition', 'Genotype', 'Libraries', 'ACE', 'percent_mt', 'percent_pt', 'n_genes_by_counts', 'leiden'\n",
       "    var: 'features'\n",
       "    uns: 'pca', 'neighbors', 'umap', 'Orig.ident_colors', 'Condition_colors', 'Tissue_colors', 'Genotype_colors', 'leiden'\n",
       "    obsm: 'X_pca', 'X_umap', 'X_pca_harmony', 'X_scanorama'\n",
       "    varm: 'PCs'\n",
       "    obsp: 'distances', 'connectivities'"
      ]
     },
     "execution_count": 81,
     "metadata": {},
     "output_type": "execute_result"
    }
   ],
   "source": [
    "adata_raw"
   ]
  },
  {
   "cell_type": "code",
   "execution_count": null,
   "metadata": {},
   "outputs": [],
   "source": []
  }
 ],
 "metadata": {
  "kernelspec": {
   "display_name": "scanpy",
   "language": "python",
   "name": "python3"
  },
  "language_info": {
   "codemirror_mode": {
    "name": "ipython",
    "version": 3
   },
   "file_extension": ".py",
   "mimetype": "text/x-python",
   "name": "python",
   "nbconvert_exporter": "python",
   "pygments_lexer": "ipython3",
   "version": "3.9.20"
  }
 },
 "nbformat": 4,
 "nbformat_minor": 2
}
